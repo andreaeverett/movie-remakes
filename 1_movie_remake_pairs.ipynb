{
 "cells": [
  {
   "cell_type": "code",
   "execution_count": 1,
   "metadata": {
    "collapsed": true
   },
   "outputs": [],
   "source": [
    "#This file uses BeautifulSoup to collect a list of paired films -- one remake and one original -- from Wikipedia.\n",
    "#It creates a CSV file with one entry per film (after collecting more data about them, they will be paired up again later).\n",
    "\n",
    "import pandas as pd\n",
    "import numpy as np\n",
    "import matplotlib.pyplot as plt\n",
    "import requests\n",
    "\n",
    "%matplotlib inline\n",
    "\n",
    "from bs4 import BeautifulSoup"
   ]
  },
  {
   "cell_type": "code",
   "execution_count": 2,
   "metadata": {
    "collapsed": true
   },
   "outputs": [],
   "source": [
    "#Request Movies & Remakes A to M\n",
    "url = 'https://en.wikipedia.org/wiki/List_of_film_remakes_(A%E2%80%93M)'\n",
    "response = requests.get(url)"
   ]
  },
  {
   "cell_type": "code",
   "execution_count": 3,
   "metadata": {
    "collapsed": false
   },
   "outputs": [
    {
     "data": {
      "text/plain": [
       "200"
      ]
     },
     "execution_count": 3,
     "metadata": {},
     "output_type": "execute_result"
    }
   ],
   "source": [
    "response.status_code"
   ]
  },
  {
   "cell_type": "code",
   "execution_count": 4,
   "metadata": {
    "collapsed": false
   },
   "outputs": [],
   "source": [
    "#Save that file\n",
    "with open('data_files/movies_atom.html', 'w') as f:\n",
    "    f.write(response.text.encode('utf-8'))"
   ]
  },
  {
   "cell_type": "code",
   "execution_count": 5,
   "metadata": {
    "collapsed": false
   },
   "outputs": [],
   "source": [
    "#Request Movies & Remakes N to Z\n",
    "url = 'https://en.wikipedia.org/wiki/List_of_film_remakes_(N%E2%80%93Z)'\n",
    "response = requests.get(url)"
   ]
  },
  {
   "cell_type": "code",
   "execution_count": 6,
   "metadata": {
    "collapsed": false
   },
   "outputs": [
    {
     "data": {
      "text/plain": [
       "200"
      ]
     },
     "execution_count": 6,
     "metadata": {},
     "output_type": "execute_result"
    }
   ],
   "source": [
    "response.status_code"
   ]
  },
  {
   "cell_type": "code",
   "execution_count": 7,
   "metadata": {
    "collapsed": true
   },
   "outputs": [],
   "source": [
    "#Save that file\n",
    "with open('data_files/movies_ntoz.html', 'w') as f:\n",
    "    f.write(response.text.encode('utf-8'))"
   ]
  },
  {
   "cell_type": "code",
   "execution_count": 8,
   "metadata": {
    "collapsed": true
   },
   "outputs": [],
   "source": [
    "#Go through html tables to capture the information in the tables\n",
    "\n",
    "def get_pairs(file):\n",
    "    \"\"\"Function that returns a list of dictionaries to hold information on each original and remake\"\"\"\n",
    "    movie_pairs = []\n",
    "    header = ['remake', 'original']\n",
    "    for row in file.findAll('tr'):\n",
    "        row_dict = {}\n",
    "        for i, cell in enumerate(row.findAll('td')):\n",
    "            row_dict[header[i]] = cell.findAll(text = True)\n",
    "        movie_pairs.append(row_dict)\n",
    "\n",
    "    #Eliminate empty dictionaries (from table headers/other empty table rows)    \n",
    "    non_empty_pairs = []\n",
    "    for i in movie_pairs:\n",
    "        if i:\n",
    "            non_empty_pairs.append(i)\n",
    "    movie_pairs = non_empty_pairs\n",
    "    \n",
    "    return movie_pairs   "
   ]
  },
  {
   "cell_type": "code",
   "execution_count": 9,
   "metadata": {
    "collapsed": false
   },
   "outputs": [],
   "source": [
    "#Call get_pairs on the 2 html files\n",
    "atom = BeautifulSoup(open('data_files/movies_atom.html').read(), 'lxml')\n",
    "pairs_atom = get_pairs(atom)\n",
    "ntoz = BeautifulSoup(open('data_files/movies_ntoz.html').read(), 'lxml')\n",
    "pairs_ntoz = get_pairs(ntoz)"
   ]
  },
  {
   "cell_type": "code",
   "execution_count": 10,
   "metadata": {
    "collapsed": false
   },
   "outputs": [],
   "source": [
    "#Combine into one list\n",
    "movie_pairs = []\n",
    "for i in pairs_atom:\n",
    "    movie_pairs.append(i)\n",
    "for i in pairs_ntoz:\n",
    "    movie_pairs.append(i)   \n",
    "    \n",
    "#Drop last row, which doesn't actually contain movie information    \n",
    "movie_pairs = movie_pairs[:-1]    "
   ]
  },
  {
   "cell_type": "code",
   "execution_count": 1,
   "metadata": {
    "collapsed": false
   },
   "outputs": [],
   "source": [
    "#Unfortunately Wikipedia is not perfect and there were a number of cases where the director or year information was missing or \n",
    "# not in the proper spot. I fixed these by hand. Code for that is not included here, but feel free to contact me for details.  "
   ]
  },
  {
   "cell_type": "code",
   "execution_count": 13,
   "metadata": {
    "collapsed": false
   },
   "outputs": [
    {
     "name": "stdout",
     "output_type": "stream",
     "text": [
      "534\n",
      "534\n",
      "534\n",
      "534\n",
      "534\n",
      "534\n"
     ]
    }
   ],
   "source": [
    "#Create & populate lists to hold movie names, years, directors\n",
    "original_name = []\n",
    "original_year = []\n",
    "original_director = []\n",
    "remake_name = []\n",
    "remake_year = []\n",
    "remake_director = []\n",
    "\n",
    "for i in movie_pairs:\n",
    "    original_name.append(i['original'][0])\n",
    "    original_year.append(i['original'][1])\n",
    "    original_director.append(i['original'][2])\n",
    "    remake_name.append(i['remake'][0])\n",
    "    remake_year.append(i['remake'][1])\n",
    "    remake_director.append(i['remake'][2])\n",
    "\n",
    "#Verify all looks correct & of the same length   \n",
    "print len(original_name)    \n",
    "print len(original_year)\n",
    "print len(original_director)\n",
    "print len(remake_name)    \n",
    "print len(remake_year)\n",
    "print len(remake_director)"
   ]
  },
  {
   "cell_type": "code",
   "execution_count": 14,
   "metadata": {
    "collapsed": false
   },
   "outputs": [
    {
     "name": "stdout",
     "output_type": "stream",
     "text": [
      "534\n",
      "[u'1957', u'2005', u'1963', u'1943', u'1961', u'1964', u'1957', u'1940', u'1986', u'1931', u'1939', u'1947', u'1966', u'1937', u'1943', u'1979', u'1956', u'1970', u'1951', u'1946']\n",
      "534\n",
      "[u'2007', u'2010', u'2011', u'1951', u'1996', u'2005', u'2007', u'1951', u'2014', u'1933', u'1957', u'1984', u'2004', u'1938', u'1989', u'2005', u'1988', '2010', u'1994', u'1980']\n"
     ]
    }
   ],
   "source": [
    "#Use regular expressions to eliminate parentheses around years & capture 4 digits only\n",
    "\n",
    "import re\n",
    "\n",
    "original_year_regex = []\n",
    "for i in original_year:\n",
    "    year = re.search( r'\\d\\d\\d\\d', i)\n",
    "    original_year_regex.append(year.group(0))\n",
    "\n",
    "remake_year_regex = []\n",
    "for i in remake_year:\n",
    "    year = re.search( r'\\d\\d\\d\\d', i)\n",
    "    remake_year_regex.append(year.group(0))\n",
    "\n",
    "#Verify this worked    \n",
    "original_year = original_year_regex\n",
    "print len(original_year)\n",
    "print original_year[0:20]\n",
    "\n",
    "remake_year = remake_year_regex    \n",
    "print len(remake_year)\n",
    "print remake_year[0:20]"
   ]
  },
  {
   "cell_type": "code",
   "execution_count": 15,
   "metadata": {
    "collapsed": false
   },
   "outputs": [
    {
     "name": "stdout",
     "output_type": "stream",
     "text": [
      "Dumbo\n",
      "1941\n",
      "Ben Sharpsteen\n",
      "Dumbo\n",
      "2017\n",
      "Tim Burton\n"
     ]
    },
    {
     "data": {
      "text/plain": [
       "u'Tim Burton'"
      ]
     },
     "execution_count": 15,
     "metadata": {},
     "output_type": "execute_result"
    }
   ],
   "source": [
    "#Need to delete Dumbo (index 124) because it's on the list even though the remake hasn't come out yet\n",
    "print original_name[124]\n",
    "print original_year[124]\n",
    "print original_director[124]\n",
    "print remake_name[124]\n",
    "print remake_year[124]\n",
    "print remake_director[124]\n",
    "\n",
    "original_name.pop(124)\n",
    "original_year.pop(124)\n",
    "original_director.pop(124)\n",
    "remake_name.pop(124)\n",
    "remake_year.pop(124)\n",
    "remake_director.pop(124)"
   ]
  },
  {
   "cell_type": "code",
   "execution_count": 16,
   "metadata": {
    "collapsed": false
   },
   "outputs": [
    {
     "name": "stdout",
     "output_type": "stream",
     "text": [
      "<class 'pandas.core.frame.DataFrame'>\n",
      "RangeIndex: 1066 entries, 0 to 1065\n",
      "Data columns (total 3 columns):\n",
      "title       1066 non-null object\n",
      "year        1066 non-null object\n",
      "director    1066 non-null object\n",
      "dtypes: object(3)\n",
      "memory usage: 25.1+ KB\n",
      "None\n"
     ]
    },
    {
     "data": {
      "text/html": [
       "<div>\n",
       "<table border=\"1\" class=\"dataframe\">\n",
       "  <thead>\n",
       "    <tr style=\"text-align: right;\">\n",
       "      <th></th>\n",
       "      <th>title</th>\n",
       "      <th>year</th>\n",
       "      <th>director</th>\n",
       "    </tr>\n",
       "  </thead>\n",
       "  <tbody>\n",
       "    <tr>\n",
       "      <th>0</th>\n",
       "      <td>12</td>\n",
       "      <td>2007</td>\n",
       "      <td>Nikita Mikhalkov</td>\n",
       "    </tr>\n",
       "    <tr>\n",
       "      <th>1</th>\n",
       "      <td>13</td>\n",
       "      <td>2010</td>\n",
       "      <td>Géla Babluani</td>\n",
       "    </tr>\n",
       "    <tr>\n",
       "      <th>2</th>\n",
       "      <td>13 Assassins</td>\n",
       "      <td>2011</td>\n",
       "      <td>Takashi Miike</td>\n",
       "    </tr>\n",
       "    <tr>\n",
       "      <th>3</th>\n",
       "      <td>The 13th Letter</td>\n",
       "      <td>1951</td>\n",
       "      <td>Otto Preminger</td>\n",
       "    </tr>\n",
       "    <tr>\n",
       "      <th>4</th>\n",
       "      <td>101 Dalmatians</td>\n",
       "      <td>1996</td>\n",
       "      <td>Stephen Herek</td>\n",
       "    </tr>\n",
       "    <tr>\n",
       "      <th>5</th>\n",
       "      <td>2001 Maniacs</td>\n",
       "      <td>2005</td>\n",
       "      <td>Tim Sullivan</td>\n",
       "    </tr>\n",
       "    <tr>\n",
       "      <th>6</th>\n",
       "      <td>3:10 to Yuma</td>\n",
       "      <td>2007</td>\n",
       "      <td>James Mangold</td>\n",
       "    </tr>\n",
       "    <tr>\n",
       "      <th>7</th>\n",
       "      <td>Abbott and Costello Meet the Invisible Man</td>\n",
       "      <td>1951</td>\n",
       "      <td>Charles Lamont</td>\n",
       "    </tr>\n",
       "    <tr>\n",
       "      <th>8</th>\n",
       "      <td>About Last Night</td>\n",
       "      <td>2014</td>\n",
       "      <td>Steve Pink</td>\n",
       "    </tr>\n",
       "    <tr>\n",
       "      <th>9</th>\n",
       "      <td>Adorable</td>\n",
       "      <td>1933</td>\n",
       "      <td>William Dieterle</td>\n",
       "    </tr>\n",
       "  </tbody>\n",
       "</table>\n",
       "</div>"
      ],
      "text/plain": [
       "                                        title  year          director\n",
       "0                                          12  2007  Nikita Mikhalkov\n",
       "1                                          13  2010     Géla Babluani\n",
       "2                                13 Assassins  2011     Takashi Miike\n",
       "3                             The 13th Letter  1951    Otto Preminger\n",
       "4                              101 Dalmatians  1996     Stephen Herek\n",
       "5                                2001 Maniacs  2005      Tim Sullivan\n",
       "6                                3:10 to Yuma  2007     James Mangold\n",
       "7  Abbott and Costello Meet the Invisible Man  1951    Charles Lamont\n",
       "8                            About Last Night  2014        Steve Pink\n",
       "9                                    Adorable  1933  William Dieterle"
      ]
     },
     "execution_count": 16,
     "metadata": {},
     "output_type": "execute_result"
    }
   ],
   "source": [
    "#Create a dataframe with one row for each movie to facilitate further data collection\n",
    "all_movies = pd.DataFrame()\n",
    "all_movies['title'] = remake_name + original_name\n",
    "all_movies['year'] = remake_year + original_year\n",
    "all_movies['director'] = remake_director + original_director\n",
    "\n",
    "print all_movies.info()\n",
    "all_movies.head(10)"
   ]
  },
  {
   "cell_type": "code",
   "execution_count": 17,
   "metadata": {
    "collapsed": false
   },
   "outputs": [],
   "source": [
    "#Save the dataframes to separate CSV files\n",
    "all_movies.to_csv('data_files/all_movies.csv', encoding='utf-8')"
   ]
  }
 ],
 "metadata": {
  "anaconda-cloud": {},
  "kernelspec": {
   "display_name": "Python [conda root]",
   "language": "python",
   "name": "conda-root-py"
  },
  "language_info": {
   "codemirror_mode": {
    "name": "ipython",
    "version": 2
   },
   "file_extension": ".py",
   "mimetype": "text/x-python",
   "name": "python",
   "nbconvert_exporter": "python",
   "pygments_lexer": "ipython2",
   "version": "2.7.12"
  },
  "toc": {
   "nav_menu": {
    "height": "13px",
    "width": "253px"
   },
   "navigate_menu": true,
   "number_sections": true,
   "sideBar": true,
   "threshold": 4,
   "toc_cell": false,
   "toc_section_display": "block",
   "toc_window_display": false
  }
 },
 "nbformat": 4,
 "nbformat_minor": 0
}
